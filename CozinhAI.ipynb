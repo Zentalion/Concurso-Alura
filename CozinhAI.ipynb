{
  "nbformat": 4,
  "nbformat_minor": 0,
  "metadata": {
    "colab": {
      "provenance": []
    },
    "kernelspec": {
      "name": "python3",
      "display_name": "Python 3"
    },
    "language_info": {
      "name": "python"
    }
  },
  "cells": [
    {
      "cell_type": "code",
      "source": [
        "%pip -q install google-genai"
      ],
      "metadata": {
        "id": "UCCbECexLk_h"
      },
      "execution_count": 1,
      "outputs": []
    },
    {
      "cell_type": "code",
      "source": [
        "# Configura a API Key do Google Gemini\n",
        "\n",
        "import os\n",
        "from google.colab import userdata\n",
        "\n",
        "os.environ[\"GOOGLE_API_KEY\"] = userdata.get('GOOGLE_API_KEY')"
      ],
      "metadata": {
        "id": "NfCqHo1tLk8P"
      },
      "execution_count": 2,
      "outputs": []
    },
    {
      "cell_type": "code",
      "source": [
        "# Configura o cliente da SDK do Gemini\n",
        "\n",
        "from google import genai\n",
        "\n",
        "client = genai.Client()\n",
        "\n",
        "MODEL_ID = \"gemini-2.0-flash\""
      ],
      "metadata": {
        "id": "bV4w0H5TLk5g"
      },
      "execution_count": 3,
      "outputs": []
    },
    {
      "cell_type": "code",
      "source": [
        "# Instalar Framework ADK de agentes do Google ################################################\n",
        "%pip install -q google-adk\n"
      ],
      "metadata": {
        "id": "hvZ3UnPI4jhJ",
        "colab": {
          "base_uri": "https://localhost:8080/"
        },
        "outputId": "e9ec9588-6aae-4904-ba12-46dbc4bee83d"
      },
      "execution_count": 4,
      "outputs": [
        {
          "output_type": "stream",
          "name": "stdout",
          "text": [
            "\u001b[?25l   \u001b[90m━━━━━━━━━━━━━━━━━━━━━━━━━━━━━━━━━━━━━━━━\u001b[0m \u001b[32m0.0/1.2 MB\u001b[0m \u001b[31m?\u001b[0m eta \u001b[36m-:--:--\u001b[0m\r\u001b[2K   \u001b[91m━━━━━━━━━━━━━━━━━━━━━━━━━━━━━━━━━━━━━━\u001b[0m\u001b[90m╺\u001b[0m\u001b[90m━\u001b[0m \u001b[32m1.1/1.2 MB\u001b[0m \u001b[31m35.3 MB/s\u001b[0m eta \u001b[36m0:00:01\u001b[0m\r\u001b[2K   \u001b[90m━━━━━━━━━━━━━━━━━━━━━━━━━━━━━━━━━━━━━━━━\u001b[0m \u001b[32m1.2/1.2 MB\u001b[0m \u001b[31m22.4 MB/s\u001b[0m eta \u001b[36m0:00:00\u001b[0m\n",
            "\u001b[?25h\u001b[?25l   \u001b[90m━━━━━━━━━━━━━━━━━━━━━━━━━━━━━━━━━━━━━━━━\u001b[0m \u001b[32m0.0/232.1 kB\u001b[0m \u001b[31m?\u001b[0m eta \u001b[36m-:--:--\u001b[0m\r\u001b[2K   \u001b[90m━━━━━━━━━━━━━━━━━━━━━━━━━━━━━━━━━━━━━━━━\u001b[0m \u001b[32m232.1/232.1 kB\u001b[0m \u001b[31m17.5 MB/s\u001b[0m eta \u001b[36m0:00:00\u001b[0m\n",
            "\u001b[?25h\u001b[?25l   \u001b[90m━━━━━━━━━━━━━━━━━━━━━━━━━━━━━━━━━━━━━━━━\u001b[0m \u001b[32m0.0/95.2 kB\u001b[0m \u001b[31m?\u001b[0m eta \u001b[36m-:--:--\u001b[0m\r\u001b[2K   \u001b[90m━━━━━━━━━━━━━━━━━━━━━━━━━━━━━━━━━━━━━━━━\u001b[0m \u001b[32m95.2/95.2 kB\u001b[0m \u001b[31m8.2 MB/s\u001b[0m eta \u001b[36m0:00:00\u001b[0m\n",
            "\u001b[?25h\u001b[?25l   \u001b[90m━━━━━━━━━━━━━━━━━━━━━━━━━━━━━━━━━━━━━━━━\u001b[0m \u001b[32m0.0/217.1 kB\u001b[0m \u001b[31m?\u001b[0m eta \u001b[36m-:--:--\u001b[0m\r\u001b[2K   \u001b[90m━━━━━━━━━━━━━━━━━━━━━━━━━━━━━━━━━━━━━━━━\u001b[0m \u001b[32m217.1/217.1 kB\u001b[0m \u001b[31m16.7 MB/s\u001b[0m eta \u001b[36m0:00:00\u001b[0m\n",
            "\u001b[?25h\u001b[?25l   \u001b[90m━━━━━━━━━━━━━━━━━━━━━━━━━━━━━━━━━━━━━━━━\u001b[0m \u001b[32m0.0/334.1 kB\u001b[0m \u001b[31m?\u001b[0m eta \u001b[36m-:--:--\u001b[0m\r\u001b[2K   \u001b[90m━━━━━━━━━━━━━━━━━━━━━━━━━━━━━━━━━━━━━━━━\u001b[0m \u001b[32m334.1/334.1 kB\u001b[0m \u001b[31m25.4 MB/s\u001b[0m eta \u001b[36m0:00:00\u001b[0m\n",
            "\u001b[?25h\u001b[?25l   \u001b[90m━━━━━━━━━━━━━━━━━━━━━━━━━━━━━━━━━━━━━━━━\u001b[0m \u001b[32m0.0/125.1 kB\u001b[0m \u001b[31m?\u001b[0m eta \u001b[36m-:--:--\u001b[0m\r\u001b[2K   \u001b[90m━━━━━━━━━━━━━━━━━━━━━━━━━━━━━━━━━━━━━━━━\u001b[0m \u001b[32m125.1/125.1 kB\u001b[0m \u001b[31m10.2 MB/s\u001b[0m eta \u001b[36m0:00:00\u001b[0m\n",
            "\u001b[2K   \u001b[90m━━━━━━━━━━━━━━━━━━━━━━━━━━━━━━━━━━━━━━━━\u001b[0m \u001b[32m65.8/65.8 kB\u001b[0m \u001b[31m5.6 MB/s\u001b[0m eta \u001b[36m0:00:00\u001b[0m\n",
            "\u001b[2K   \u001b[90m━━━━━━━━━━━━━━━━━━━━━━━━━━━━━━━━━━━━━━━━\u001b[0m \u001b[32m119.0/119.0 kB\u001b[0m \u001b[31m9.3 MB/s\u001b[0m eta \u001b[36m0:00:00\u001b[0m\n",
            "\u001b[2K   \u001b[90m━━━━━━━━━━━━━━━━━━━━━━━━━━━━━━━━━━━━━━━━\u001b[0m \u001b[32m194.9/194.9 kB\u001b[0m \u001b[31m15.2 MB/s\u001b[0m eta \u001b[36m0:00:00\u001b[0m\n",
            "\u001b[2K   \u001b[90m━━━━━━━━━━━━━━━━━━━━━━━━━━━━━━━━━━━━━━━━\u001b[0m \u001b[32m62.5/62.5 kB\u001b[0m \u001b[31m4.9 MB/s\u001b[0m eta \u001b[36m0:00:00\u001b[0m\n",
            "\u001b[2K   \u001b[90m━━━━━━━━━━━━━━━━━━━━━━━━━━━━━━━━━━━━━━━━\u001b[0m \u001b[32m103.3/103.3 kB\u001b[0m \u001b[31m8.3 MB/s\u001b[0m eta \u001b[36m0:00:00\u001b[0m\n",
            "\u001b[2K   \u001b[90m━━━━━━━━━━━━━━━━━━━━━━━━━━━━━━━━━━━━━━━━\u001b[0m \u001b[32m44.4/44.4 kB\u001b[0m \u001b[31m3.1 MB/s\u001b[0m eta \u001b[36m0:00:00\u001b[0m\n",
            "\u001b[2K   \u001b[90m━━━━━━━━━━━━━━━━━━━━━━━━━━━━━━━━━━━━━━━━\u001b[0m \u001b[32m72.0/72.0 kB\u001b[0m \u001b[31m5.7 MB/s\u001b[0m eta \u001b[36m0:00:00\u001b[0m\n",
            "\u001b[?25h"
          ]
        }
      ]
    },
    {
      "cell_type": "code",
      "execution_count": 26,
      "metadata": {
        "id": "aePV2bdfDeoW"
      },
      "outputs": [],
      "source": [
        "from google.adk.agents import Agent\n",
        "from google.adk.runners import Runner\n",
        "from google.adk.sessions import InMemorySessionService\n",
        "from google.adk.tools import google_search\n",
        "from google.genai import types  # Para criar conteúdos (Content e Part)\n",
        "from datetime import date\n",
        "import textwrap # Para formatar melhor a saída de texto\n",
        "from IPython.display import display, Markdown # Para exibir texto formatado no Colab\n",
        "import requests # Para fazer requisições HTTP\n",
        "import warnings\n",
        "\n",
        "warnings.filterwarnings(\"ignore\")"
      ]
    },
    {
      "cell_type": "code",
      "source": [
        "# Função auxiliar que envia uma mensagem para um agente via Runner e retorna a resposta final\n",
        "def call_agent(agent: Agent, message_text: str) -> str:\n",
        "    # Cria um serviço de sessão em memória\n",
        "    session_service = InMemorySessionService()\n",
        "    # Cria uma nova sessão (você pode personalizar os IDs conforme necessário)\n",
        "    session = session_service.create_session(app_name=agent.name, user_id=\"user1\", session_id=\"session1\")\n",
        "    # Cria um Runner para o agente\n",
        "    runner = Runner(agent=agent, app_name=agent.name, session_service=session_service)\n",
        "    # Cria o conteúdo da mensagem de entrada\n",
        "    content = types.Content(role=\"user\", parts=[types.Part(text=message_text)])\n",
        "\n",
        "    final_response = \"\"\n",
        "    # Itera assincronamente pelos eventos retornados durante a execução do agente\n",
        "    for event in runner.run(user_id=\"user1\", session_id=\"session1\", new_message=content):\n",
        "        if event.is_final_response():\n",
        "          for part in event.content.parts:\n",
        "            if part.text is not None:\n",
        "              final_response += part.text\n",
        "              final_response += \"\\n\"\n",
        "    return final_response"
      ],
      "metadata": {
        "id": "_xP4lWhsS5ko"
      },
      "execution_count": 25,
      "outputs": []
    },
    {
      "cell_type": "code",
      "source": [
        "##########################################\n",
        "# --- Agente 1: Buscador de receitas --- #\n",
        "##########################################\n",
        "def agente_buscador(topico,data_de_hoje):\n",
        "  buscador=Agent(\n",
        "      name='agente_buscador', model='gemini-2.0-flash', description='Agente de buscar noticias no google',\n",
        "      tools=[google_search],\n",
        "      instruction='''Você é um assistente de pesquisa culinária. Sua tarefa é usar a ferramenta de busca do google (google_search)\n",
        "      para recuperar as receitas mais bem avaliadas de acordo com o que o usuario pedir e colocalas na forma de receita com modo de preparo. Se for um pedido direto irá retornar até 3 receitas de fontes diferentes.Se for mais genérico como por exemplo um prato de massa ou um doce, buscar 5 receitas diferentes.\n",
        "      Já se for pedido uma refeição completa como por exemplo um almoço de familia ou um jantar romantico, retornar apenas um prato de entrada, um principal e uma sobremesa.Apenas se vier Balacubaco você irá procurar uma receita baseado no dia e ano da busca, se não tiver Balacubaco não mensionar a data.'''\n",
        "  )\n",
        "  entrada_do_agente_buscador = f'Tópico: {topico}\\nData de hoje: {data_de_hoje}'\n",
        "  lancamentos= call_agent(buscador, entrada_do_agente_buscador)\n",
        "  return lancamentos"
      ],
      "metadata": {
        "id": "o8bqIfi_DyH8"
      },
      "execution_count": 24,
      "outputs": []
    },
    {
      "cell_type": "code",
      "source": [
        "################################################\n",
        "# --- Agente 2: Determinar preços --- #\n",
        "################################################\n",
        "def agente_preco(topico, lancamentos):\n",
        "    precificador = Agent(\n",
        "        name=\"agente_preco\",\n",
        "        model=\"gemini-2.0-flash\",\n",
        "        description=\"Agente que busca os preços\",\n",
        "        # Inserir as instruções do Agente de Preços #################################################\n",
        "        instruction=\"\"\"Você é um cozinheiro proficional, especialista em pratos com bom custo beneficio. Com base na nas receitas apresentadas pelo buscador,você deve:\n",
        "        usar a ferramenta de busca do google (google_search) para encontrar o preço medio de cada ingrediente, lembrando que está no Brasil. Reescrever os preços para não ficarem com a formatação da fonte. Colocar os inguedientes em lista para ter apenas um por linha\"\"\",\n",
        "        tools=[google_search]\n",
        "    )\n",
        "\n",
        "    entrada_do_agente_precificador = f\"Tópico:{topico}\\nLançamentos: {lancamentos}\"\n",
        "    # Executa o agente\n",
        "    precos = call_agent(precificador, entrada_do_agente_precificador)\n",
        "    return precos"
      ],
      "metadata": {
        "id": "y3VO1uo5_ghO"
      },
      "execution_count": 23,
      "outputs": []
    },
    {
      "cell_type": "code",
      "source": [
        "######################################\n",
        "# --- Agente 3: Nutrição --- #\n",
        "######################################\n",
        "def agente_nutricional(topico, lancamentos):\n",
        "    nutricionista = Agent(\n",
        "        name=\"agente_nutricionista\",\n",
        "        model=\"gemini-2.0-flash\",\n",
        "        description=\"Agente de verificação de valor nuticional\",\n",
        "        tools=[google_search],\n",
        "        instruction=\"\"\"\n",
        "            Você é um nutricionista experiente que sabe explicar o valor nutricional de alimentos.\n",
        "            Você analisa receitas e mostra o valor nutricional delas como calorias, vitaminas, minerais e sua função em uma alimentação balanceada usando o buscador do google (google_search).\n",
        "            Utilize a lista de ingrtedientes das receitas fornecidas no lançamentos para determinar o valor nutricional delas. Sugira substituições saudaveis para os ingredientes sem comprometer o sabor.\n",
        "            \"\"\",\n",
        "\n",
        "    )\n",
        "    entrada_do_agente_nutricional = f\"Tópico: {topico}\\nLançamentos: {precos}\"\n",
        "    # Executa o agente\n",
        "    nutricao = call_agent(nutricionista, entrada_do_agente_nutricional)\n",
        "    return nutricao"
      ],
      "metadata": {
        "id": "uOqlg2TRLVh1"
      },
      "execution_count": 22,
      "outputs": []
    },
    {
      "cell_type": "code",
      "source": [
        "##########################################\n",
        "# --- Agente 4: Escritor da receita --- #\n",
        "##########################################\n",
        "def agente_receita(lancamentos, precos, nutricao):\n",
        "    revisor = Agent(\n",
        "        name=\"agente_revisor\",\n",
        "        model=\"gemini-2.0-flash\",\n",
        "        description=\"Agente revisor de post para redes sociais.\",\n",
        "        instruction=\"\"\"\n",
        "            Você é um escritor de receitas, especializado em comunicação. Você vai pegar todas as receitas encontradas pelo lancamentos e relacionar com os preços encontrados pelo precos produzindo uma receita\n",
        "            que mostra os preços dos ingredientes\n",
        "            Mostrará as informações que o nutricionais completas que o agente_nutricional(nutricao) obteve para cada prato de uma maneira ludica e divertida.Ao final use as informações de nutricao para propor novas receitas relacionadas.\n",
        "            \"\"\",\n",
        "    )\n",
        "    entrada_do_agente_receita = f\"Receitas: {lancamentos}\\nPreço: {precos}\\nNutrição:{nutricao}\"\n",
        "    # Executa o agente\n",
        "    receita = call_agent(revisor, entrada_do_agente_receita)\n",
        "    return receita"
      ],
      "metadata": {
        "id": "_aTb1SdkLeT6"
      },
      "execution_count": 21,
      "outputs": []
    },
    {
      "cell_type": "code",
      "source": [
        "data_de_hoje = date.today().strftime(\"%d/%m/%Y\")\n",
        "\n",
        "print(\"🔪 CozinhAI, seu chef de cozinha pessoal 🥣\")\n",
        "\n",
        "# --- Obter o Tópico do Usuário ---\n",
        "topico = input(\"🔥 O que iremos preparar hoje?: \")\n",
        "\n",
        "# Inserir lógica do sistema de agentes ###############################################\n",
        "\n",
        "if not topico:\n",
        "  print('Então vou te surpriender hoje!')\n",
        "  topico = ('Balacubaco')\n",
        "  lancamentos= agente_buscador(topico,data_de_hoje)\n",
        "  print('Encontrada as melhores receitas!📃')\n",
        "  precos = agente_preco(topico, lancamentos)\n",
        "  print('Os melhores preços estão aqui!🍳')\n",
        "  nutricao = agente_nutricional(topico, lancamentos)\n",
        "  print('Uma refeição balenciada é muito importante!💪')\n",
        "  receita= agente_receita(lancamentos, precos, nutricao)\n",
        "  print(receita)\n",
        "else:\n",
        "  print(f'Ok! Vamos buscar algumas sugestões para os pratos.')\n",
        "\n",
        "  lancamentos= agente_buscador(topico,data_de_hoje)\n",
        "  print('Encontrada as melhores receitas!📃')\n",
        "  precos = agente_preco(topico, lancamentos)\n",
        "  print('Os melhores preços estão aqui!🍳')\n",
        "  nutricao = agente_nutricional(topico, lancamentos)\n",
        "  print('Uma refeição balenciada é muito importante!💪')\n",
        "  receita= agente_receita(lancamentos, precos, nutricao)\n",
        "  print(receita)\n",
        "\n"
      ],
      "metadata": {
        "id": "630ummxz4myx",
        "colab": {
          "base_uri": "https://localhost:8080/"
        },
        "outputId": "643b2a97-03d0-4d98-b511-05081406b7bc"
      },
      "execution_count": 20,
      "outputs": [
        {
          "output_type": "stream",
          "name": "stdout",
          "text": [
            "🔪 Iniciando Auxiliar de cozinha pessoal 🥣\n",
            "🔥 O que iremos preparar hoje?: brigadeiro\n",
            "Ok! Vamos buscar algumas sugestões para os pratos.\n",
            "Encontrada as melhores receitas!📃\n",
            "Os melhores preços estão aqui!🍳\n",
            "Uma refeição balenciada é muito importante!💪\n",
            "## Brigadeiro Delícia: Receitas, Preços e Segredos Nutricionais Revelados! ✨\n",
            "\n",
            "Preparem as colheres, porque hoje vamos mergulhar no universo do brigadeiro! 🍫😋\n",
            "\n",
            "Reunimos três receitas incríveis, desde o clássico até o gourmet, com um toque de paçoca que vai te conquistar. Mas não para por aí! Além de aprender a fazer essas maravilhas, vamos descobrir os segredos para economizar na hora da compra e ainda deixar tudo mais saudável.\n",
            "\n",
            "**💰💸 Quanto custa essa Doce Aventura?**\n",
            "\n",
            "Antes de tudo, vamos aos preços dos ingredientes! Com base nas informações mais recentes, preparei um guia para você não se perder na hora de ir ao mercado:\n",
            "\n",
            "### 1. Brigadeiro Tradicional (Tudo Gostoso) 🍬\n",
            "\n",
            "*   **Leite Condensado (1 lata):** R$ 5,99\n",
            "*   **Margarina sem Sal (1 colher de sopa):** R$ 10,89 (pote de 500g)\n",
            "*   **Achocolatado em Pó (7 colheres de sopa):** R$ 14,53 (lata de 350g)\n",
            "*   **Chocolate Granulado (para decorar):** R$ 26,69 (1kg)\n",
            "\n",
            "### 2. Brigadeiro Gourmet Cremoso ✨\n",
            "\n",
            "*   **Leite Condensado (1 lata):** R$ 5,99\n",
            "*   **Cacau em Pó 100% (3 colheres de sopa):** R$ 23,90 (1kg)\n",
            "*   **Manteiga (1 colher de sopa):** R$ 17,29 (pote de 200g com sal)\n",
            "*   **Creme de Leite (1 caixinha):** R$ 12,55 (pote de 300g)\n",
            "*   **Granulado (para decorar):** R$ 26,69 (1kg)\n",
            "\n",
            "### 3. Brigadeiro de Paçoca com Nibs de Cacau 🥜🍫\n",
            "\n",
            "*   **Leite Condensado (395g):** R$ 5,99\n",
            "*   **Paçoca Esfarelada (100g):** R$ 5,99 (160g com 8 unidades)\n",
            "*   **Creme de Leite Fresco (50g):** R$ 12,55 (pote de 300g)\n",
            "*   **Nibs de Cacau (30g):** R$ 15,00 (100g)\n",
            "\n",
            "**Dica:** Os preços podem variar, então fique de olho nas promoções do seu mercado favorito! 😉\n",
            "\n",
            "**👨‍🍳👩‍🍳 Mãos na Massa: Receitas Deliciosas**\n",
            "\n",
            "Agora que você já sabe os preços, vamos às receitas! Prepare-se para se deliciar com cada mordida:\n",
            "\n",
            "### 1. Brigadeiro Tradicional (Tudo Gostoso)\n",
            "\n",
            "**Ingredientes:**\n",
            "\n",
            "*   1 lata de leite condensado\n",
            "*   1 colher (sopa) de margarina sem sal\n",
            "*   7 colheres (sopa) de achocolatado em pó\n",
            "*   Chocolate granulado para decorar\n",
            "\n",
            "**Modo de Preparo:**\n",
            "\n",
            "1.  Em uma panela funda, coloque o leite condensado, a margarina e o chocolate em pó.\n",
            "2.  Cozinhe em fogo médio, mexendo sempre até que o brigadeiro comece a desgrudar do fundo da panela.\n",
            "3.  Deixe esfriar.\n",
            "4.  Unte as mãos com manteiga, faça pequenas bolinhas e passe-as no chocolate granulado.\n",
            "\n",
            "### 2. Brigadeiro Gourmet Cremoso\n",
            "\n",
            "**Ingredientes:**\n",
            "\n",
            "*   1 lata de leite condensado (395 gramas)\n",
            "*   3 colheres de sopa de cacau em pó 100%\n",
            "*   1 colher de sopa (15 gramas) de manteiga\n",
            "*   1 caixinha (200 gramas) de creme de leite\n",
            "*   Granulado para decorar\n",
            "\n",
            "**Modo de Preparo:**\n",
            "\n",
            "1.  Em uma panela, misture o leite condensado, o cacau em pó, a manteiga e o creme de leite. Misture com o fogo desligado até dissolver o cacau.\n",
            "2.  Leve ao fogo médio e mexa por cerca de 15 minutos sem parar, até desgrudar do fundo da panela.\n",
            "3.  Deixe esfriar (uma dica é colocar no congelador por 5 minutos antes de enrolar).\n",
            "4.  Unte as mãos com margarina ou manteiga e faça as bolinhas do tamanho desejado.\n",
            "5.  Passe as bolinhas no granulado.\n",
            "\n",
            "### 3. Brigadeiro de Paçoca com Nibs de Cacau\n",
            "\n",
            "**Ingredientes:**\n",
            "\n",
            "*   395g de leite condensado\n",
            "*   100g de paçoca esfarelada\n",
            "*   50g de creme de leite fresco\n",
            "*   30g de nibs de cacau\n",
            "\n",
            "**Modo de Preparo:**\n",
            "\n",
            "1.  Misture o leite condensado, a paçoca esfarelada e o creme de leite em uma panela.\n",
            "2.  Leve ao fogo médio, mexendo sempre, até o ponto de brigadeiro (desgrudar do fundo da panela).\n",
            "3.  Desligue o fogo e misture bem.\n",
            "4.  Transfira para um prato untado com manteiga e deixe esfriar completamente.\n",
            "5.  Enrole os brigadeiros e passe nos nibs de cacau.\n",
            "\n",
            "**💪💡 Segredos Nutricionais para um Brigadeiro Mais Fit (e Divertido!)**\n",
            "\n",
            "Que tal dar um up na sua receita e deixá-la mais saudável sem perder o sabor? Confira as dicas do nosso agente_nutricional:\n",
            "\n",
            "*   **Brigadeiro Tradicional:** Troque o achocolatado por cacau em pó 100% e adoce com xilitol ou stevia. Use nibs de cacau no lugar do granulado para um toque crocante e antioxidante! 😉\n",
            "*   **Brigadeiro Gourmet Cremoso:** Experimente usar creme de leite vegetal ou iogurte natural para reduzir a gordura saturada. Fica uma delícia! 😋\n",
            "*   **Brigadeiro de Paçoca:** Amendoim torrado e moído no lugar da paçoca esfarelada diminui o açúcar e o sal. E que tal adicionar chia ou linhaça moída para aumentar as fibras? 💪\n",
            "\n",
            "**🚀 Bônus: Ideias Criativas para Novas Receitas!**\n",
            "\n",
            "Inspirado nessas dicas, que tal experimentar:\n",
            "\n",
            "*   **Brigadeiro Vegano de Biomassa de Banana Verde:** Use leite condensado de biomassa de banana verde e chocolate 70% para uma versão vegana e cheia de fibras! 🍌🍫\n",
            "*   **Brigadeiro Proteico de Whey Protein:** Adicione whey protein sabor chocolate à receita tradicional para um boost de proteína e energia! 💪🍫\n",
            "*   **Brigadeiro Funcional com Goji Berry:** Incremente seu brigadeiro gourmet com goji berry picado para adicionar antioxidantes e um toque exótico! ✨\n",
            "\n",
            "**Qual sua Receita de Brigadeiro Favorita?**\n",
            "\n",
            "Agora é a sua vez! Qual receita você vai experimentar primeiro? Compartilhe suas criações e dicas nos comentários! 👇\n",
            "\n",
            "\n"
          ]
        }
      ]
    }
  ]
}