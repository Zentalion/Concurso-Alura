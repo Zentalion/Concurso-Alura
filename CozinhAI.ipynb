{
  "nbformat": 4,
  "nbformat_minor": 0,
  "metadata": {
    "colab": {
      "provenance": []
    },
    "kernelspec": {
      "name": "python3",
      "display_name": "Python 3"
    },
    "language_info": {
      "name": "python"
    }
  },
  "cells": [
    {
      "cell_type": "code",
      "source": [
        "%pip -q install google-genai"
      ],
      "metadata": {
        "id": "UCCbECexLk_h"
      },
      "execution_count": 1,
      "outputs": []
    },
    {
      "cell_type": "code",
      "source": [
        "# Configura a API Key do Google Gemini\n",
        "\n",
        "import os\n",
        "from google.colab import userdata\n",
        "\n",
        "os.environ[\"GOOGLE_API_KEY\"] = userdata.get('GOOGLE_API_KEY')"
      ],
      "metadata": {
        "id": "NfCqHo1tLk8P"
      },
      "execution_count": 2,
      "outputs": []
    },
    {
      "cell_type": "code",
      "source": [
        "# Configura o cliente da SDK do Gemini\n",
        "\n",
        "from google import genai\n",
        "\n",
        "client = genai.Client()\n",
        "\n",
        "MODEL_ID = \"gemini-2.0-flash\""
      ],
      "metadata": {
        "id": "bV4w0H5TLk5g"
      },
      "execution_count": 3,
      "outputs": []
    },
    {
      "cell_type": "code",
      "source": [
        "# Instalar Framework ADK de agentes do Google ################################################\n",
        "%pip install -q google-adk\n"
      ],
      "metadata": {
        "id": "hvZ3UnPI4jhJ",
        "colab": {
          "base_uri": "https://localhost:8080/"
        },
        "outputId": "e9ec9588-6aae-4904-ba12-46dbc4bee83d"
      },
      "execution_count": 4,
      "outputs": [
        {
          "output_type": "stream",
          "name": "stdout",
          "text": [
            "\u001b[?25l   \u001b[90m━━━━━━━━━━━━━━━━━━━━━━━━━━━━━━━━━━━━━━━━\u001b[0m \u001b[32m0.0/1.2 MB\u001b[0m \u001b[31m?\u001b[0m eta \u001b[36m-:--:--\u001b[0m\r\u001b[2K   \u001b[91m━━━━━━━━━━━━━━━━━━━━━━━━━━━━━━━━━━━━━━\u001b[0m\u001b[90m╺\u001b[0m\u001b[90m━\u001b[0m \u001b[32m1.1/1.2 MB\u001b[0m \u001b[31m35.3 MB/s\u001b[0m eta \u001b[36m0:00:01\u001b[0m\r\u001b[2K   \u001b[90m━━━━━━━━━━━━━━━━━━━━━━━━━━━━━━━━━━━━━━━━\u001b[0m \u001b[32m1.2/1.2 MB\u001b[0m \u001b[31m22.4 MB/s\u001b[0m eta \u001b[36m0:00:00\u001b[0m\n",
            "\u001b[?25h\u001b[?25l   \u001b[90m━━━━━━━━━━━━━━━━━━━━━━━━━━━━━━━━━━━━━━━━\u001b[0m \u001b[32m0.0/232.1 kB\u001b[0m \u001b[31m?\u001b[0m eta \u001b[36m-:--:--\u001b[0m\r\u001b[2K   \u001b[90m━━━━━━━━━━━━━━━━━━━━━━━━━━━━━━━━━━━━━━━━\u001b[0m \u001b[32m232.1/232.1 kB\u001b[0m \u001b[31m17.5 MB/s\u001b[0m eta \u001b[36m0:00:00\u001b[0m\n",
            "\u001b[?25h\u001b[?25l   \u001b[90m━━━━━━━━━━━━━━━━━━━━━━━━━━━━━━━━━━━━━━━━\u001b[0m \u001b[32m0.0/95.2 kB\u001b[0m \u001b[31m?\u001b[0m eta \u001b[36m-:--:--\u001b[0m\r\u001b[2K   \u001b[90m━━━━━━━━━━━━━━━━━━━━━━━━━━━━━━━━━━━━━━━━\u001b[0m \u001b[32m95.2/95.2 kB\u001b[0m \u001b[31m8.2 MB/s\u001b[0m eta \u001b[36m0:00:00\u001b[0m\n",
            "\u001b[?25h\u001b[?25l   \u001b[90m━━━━━━━━━━━━━━━━━━━━━━━━━━━━━━━━━━━━━━━━\u001b[0m \u001b[32m0.0/217.1 kB\u001b[0m \u001b[31m?\u001b[0m eta \u001b[36m-:--:--\u001b[0m\r\u001b[2K   \u001b[90m━━━━━━━━━━━━━━━━━━━━━━━━━━━━━━━━━━━━━━━━\u001b[0m \u001b[32m217.1/217.1 kB\u001b[0m \u001b[31m16.7 MB/s\u001b[0m eta \u001b[36m0:00:00\u001b[0m\n",
            "\u001b[?25h\u001b[?25l   \u001b[90m━━━━━━━━━━━━━━━━━━━━━━━━━━━━━━━━━━━━━━━━\u001b[0m \u001b[32m0.0/334.1 kB\u001b[0m \u001b[31m?\u001b[0m eta \u001b[36m-:--:--\u001b[0m\r\u001b[2K   \u001b[90m━━━━━━━━━━━━━━━━━━━━━━━━━━━━━━━━━━━━━━━━\u001b[0m \u001b[32m334.1/334.1 kB\u001b[0m \u001b[31m25.4 MB/s\u001b[0m eta \u001b[36m0:00:00\u001b[0m\n",
            "\u001b[?25h\u001b[?25l   \u001b[90m━━━━━━━━━━━━━━━━━━━━━━━━━━━━━━━━━━━━━━━━\u001b[0m \u001b[32m0.0/125.1 kB\u001b[0m \u001b[31m?\u001b[0m eta \u001b[36m-:--:--\u001b[0m\r\u001b[2K   \u001b[90m━━━━━━━━━━━━━━━━━━━━━━━━━━━━━━━━━━━━━━━━\u001b[0m \u001b[32m125.1/125.1 kB\u001b[0m \u001b[31m10.2 MB/s\u001b[0m eta \u001b[36m0:00:00\u001b[0m\n",
            "\u001b[2K   \u001b[90m━━━━━━━━━━━━━━━━━━━━━━━━━━━━━━━━━━━━━━━━\u001b[0m \u001b[32m65.8/65.8 kB\u001b[0m \u001b[31m5.6 MB/s\u001b[0m eta \u001b[36m0:00:00\u001b[0m\n",
            "\u001b[2K   \u001b[90m━━━━━━━━━━━━━━━━━━━━━━━━━━━━━━━━━━━━━━━━\u001b[0m \u001b[32m119.0/119.0 kB\u001b[0m \u001b[31m9.3 MB/s\u001b[0m eta \u001b[36m0:00:00\u001b[0m\n",
            "\u001b[2K   \u001b[90m━━━━━━━━━━━━━━━━━━━━━━━━━━━━━━━━━━━━━━━━\u001b[0m \u001b[32m194.9/194.9 kB\u001b[0m \u001b[31m15.2 MB/s\u001b[0m eta \u001b[36m0:00:00\u001b[0m\n",
            "\u001b[2K   \u001b[90m━━━━━━━━━━━━━━━━━━━━━━━━━━━━━━━━━━━━━━━━\u001b[0m \u001b[32m62.5/62.5 kB\u001b[0m \u001b[31m4.9 MB/s\u001b[0m eta \u001b[36m0:00:00\u001b[0m\n",
            "\u001b[2K   \u001b[90m━━━━━━━━━━━━━━━━━━━━━━━━━━━━━━━━━━━━━━━━\u001b[0m \u001b[32m103.3/103.3 kB\u001b[0m \u001b[31m8.3 MB/s\u001b[0m eta \u001b[36m0:00:00\u001b[0m\n",
            "\u001b[2K   \u001b[90m━━━━━━━━━━━━━━━━━━━━━━━━━━━━━━━━━━━━━━━━\u001b[0m \u001b[32m44.4/44.4 kB\u001b[0m \u001b[31m3.1 MB/s\u001b[0m eta \u001b[36m0:00:00\u001b[0m\n",
            "\u001b[2K   \u001b[90m━━━━━━━━━━━━━━━━━━━━━━━━━━━━━━━━━━━━━━━━\u001b[0m \u001b[32m72.0/72.0 kB\u001b[0m \u001b[31m5.7 MB/s\u001b[0m eta \u001b[36m0:00:00\u001b[0m\n",
            "\u001b[?25h"
          ]
        }
      ]
    },
    {
      "cell_type": "code",
      "execution_count": 26,
      "metadata": {
        "id": "aePV2bdfDeoW"
      },
      "outputs": [],
      "source": [
        "from google.adk.agents import Agent\n",
        "from google.adk.runners import Runner\n",
        "from google.adk.sessions import InMemorySessionService\n",
        "from google.adk.tools import google_search\n",
        "from google.genai import types  # Para criar conteúdos (Content e Part)\n",
        "from datetime import date\n",
        "import textwrap # Para formatar melhor a saída de texto\n",
        "from IPython.display import display, Markdown # Para exibir texto formatado no Colab\n",
        "import requests # Para fazer requisições HTTP\n",
        "import warnings\n",
        "\n",
        "warnings.filterwarnings(\"ignore\")"
      ]
    },
    {
      "cell_type": "code",
      "source": [
        "# Função auxiliar que envia uma mensagem para um agente via Runner e retorna a resposta final\n",
        "def call_agent(agent: Agent, message_text: str) -> str:\n",
        "    # Cria um serviço de sessão em memória\n",
        "    session_service = InMemorySessionService()\n",
        "    # Cria uma nova sessão (você pode personalizar os IDs conforme necessário)\n",
        "    session = session_service.create_session(app_name=agent.name, user_id=\"user1\", session_id=\"session1\")\n",
        "    # Cria um Runner para o agente\n",
        "    runner = Runner(agent=agent, app_name=agent.name, session_service=session_service)\n",
        "    # Cria o conteúdo da mensagem de entrada\n",
        "    content = types.Content(role=\"user\", parts=[types.Part(text=message_text)])\n",
        "\n",
        "    final_response = \"\"\n",
        "    # Itera assincronamente pelos eventos retornados durante a execução do agente\n",
        "    for event in runner.run(user_id=\"user1\", session_id=\"session1\", new_message=content):\n",
        "        if event.is_final_response():\n",
        "          for part in event.content.parts:\n",
        "            if part.text is not None:\n",
        "              final_response += part.text\n",
        "              final_response += \"\\n\"\n",
        "    return final_response"
      ],
      "metadata": {
        "id": "_xP4lWhsS5ko"
      },
      "execution_count": 25,
      "outputs": []
    },
    {
      "cell_type": "code",
      "source": [
        "##########################################\n",
        "# --- Agente 1: Buscador de receitas --- #\n",
        "##########################################\n",
        "def agente_buscador(receita,data_de_hoje):\n",
        "  buscador=Agent(\n",
        "      name='agente_buscador', model='gemini-2.0-flash', description='Agente de buscar noticias no google',\n",
        "      tools=[google_search],\n",
        "      instruction='''Você é um assistente pessoal de pesquisa culinária. Sua tarefa é usar a ferramenta de busca do google (google_search)\n",
        "      para recuperar as receitas mais bem avaliadas de acordo com o que o usuario pedir e colocalas na forma de receita com modo de preparo. Se for um pedido direto irá retornar até 3 receitas de fontes diferentes.Se for mais genérico como por exemplo um prato de massa ou um doce, buscar 5 receitas diferentes.\n",
        "      Já se for pedido uma refeição completa como por exemplo um almoço de familia ou um jantar romantico, retornar apenas um prato de entrada, um principal e uma sobremesa.\n",
        "      Apenas se vier Balacubaco você irá procurar até 3 receita baseado no dia e ano da busca e aprersentar ao usuário, não perguntar as preferencias dele. Se não tiver Balacubaco não mensionar a data.\n",
        "      '''\n",
        "  )\n",
        "  entrada_do_agente_buscador = f'Receita: {receita}\\nData de hoje: {data_de_hoje}'\n",
        "  lancamentos= call_agent(buscador, entrada_do_agente_buscador)\n",
        "  return lancamentos"
      ],
      "metadata": {
        "id": "o8bqIfi_DyH8"
      },
      "execution_count": 39,
      "outputs": []
    },
    {
      "cell_type": "code",
      "source": [
        "################################################\n",
        "# --- Agente 2: Determinar preços --- #\n",
        "################################################\n",
        "def agente_preco(receita, lancamentos):\n",
        "    precificador = Agent(\n",
        "        name=\"agente_preco\",\n",
        "        model=\"gemini-2.0-flash\",\n",
        "        description=\"Agente que busca os preços\",\n",
        "        # Inserir as instruções do Agente de Preços #################################################\n",
        "        instruction=\"\"\"Você é um cozinheiro proficional, especialista em pratos com bom custo beneficio. Com base na nas receitas apresentadas pelo buscador,você deve:\n",
        "        usar a ferramenta de busca do google (google_search) para encontrar o preço medio de cada ingrediente, lembrando que está no Brasil. Reescrever os preços para não ficarem com a formatação da fonte. Colocar os inguedientes em lista para ter apenas um por linha\"\"\",\n",
        "        tools=[google_search]\n",
        "    )\n",
        "\n",
        "    entrada_do_agente_precificador = f\"receita:{receita}\\nLançamentos: {lancamentos}\"\n",
        "    # Executa o agente\n",
        "    precos = call_agent(precificador, entrada_do_agente_precificador)\n",
        "    return precos"
      ],
      "metadata": {
        "id": "y3VO1uo5_ghO"
      },
      "execution_count": 40,
      "outputs": []
    },
    {
      "cell_type": "code",
      "source": [
        "######################################\n",
        "# --- Agente 3: Nutrição --- #\n",
        "######################################\n",
        "def agente_nutricional(receita, lancamentos):\n",
        "    nutricionista = Agent(\n",
        "        name=\"agente_nutricionista\",\n",
        "        model=\"gemini-2.0-flash\",\n",
        "        description=\"Agente de verificação de valor nuticional\",\n",
        "        tools=[google_search],\n",
        "        instruction=\"\"\"\n",
        "            Você é um nutricionista experiente que sabe explicar o valor nutricional de alimentos.\n",
        "            Você analisa receitas e mostra o valor nutricional delas como calorias, vitaminas, minerais e sua função em uma alimentação balanceada usando o buscador do google (google_search).\n",
        "            Utilize a lista de ingrtedientes das receitas fornecidas no lançamentos para determinar o valor nutricional delas. Sugira substituições saudaveis para os ingredientes sem comprometer o sabor.\n",
        "            \"\"\",\n",
        "\n",
        "    )\n",
        "    entrada_do_agente_nutricional = f\"Receita: {receita}\\nLançamentos: {precos}\"\n",
        "    # Executa o agente\n",
        "    nutricao = call_agent(nutricionista, entrada_do_agente_nutricional)\n",
        "    return nutricao"
      ],
      "metadata": {
        "id": "uOqlg2TRLVh1"
      },
      "execution_count": 41,
      "outputs": []
    },
    {
      "cell_type": "code",
      "source": [
        "##########################################\n",
        "# --- Agente 4: Escritor da receita --- #\n",
        "##########################################\n",
        "def agente_receita(lancamentos, precos, nutricao):\n",
        "    escritor = Agent(\n",
        "        name=\"agente_escritor\",\n",
        "        model=\"gemini-2.0-flash\",\n",
        "        description=\"Agente escritor do cardápio.\",\n",
        "        instruction=\"\"\"\n",
        "            Você é um escritor de receitas, especializado em comunicação. Você vai pegar todas as receitas encontradas pelo lancamentos e relacionar com os preços encontrados pelo precos produzindo uma receita\n",
        "            que mostra os preços dos ingredientes\n",
        "            Mostrará as informações que o nutricionais completas que o agente_nutricional(nutricao) obteve para cada prato de uma maneira ludica e divertida.Ao final use as informações de nutricao para propor novas receitas relacionadas.\n",
        "            \"\"\",\n",
        "    )\n",
        "    entrada_do_agente_receita = f\"Receitas: {lancamentos}\\nPreço: {precos}\\nNutrição:{nutricao}\"\n",
        "    # Executa o agente\n",
        "    cardapio = call_agent(escritor, entrada_do_agente_receita)\n",
        "    return cardapio"
      ],
      "metadata": {
        "id": "_aTb1SdkLeT6"
      },
      "execution_count": 42,
      "outputs": []
    },
    {
      "cell_type": "code",
      "source": [
        "data_de_hoje = date.today().strftime(\"%d/%m/%Y\")\n",
        "\n",
        "print(\"🔪 CozinhAI, seu chef de cozinha pessoal 🥣\")\n",
        "\n",
        "# --- Obter o Receita do Usuário ---\n",
        "receita = input(\"🔥 O que iremos preparar hoje?: \")\n",
        "\n",
        "# Inserir lógica do sistema de agentes ###############################################\n",
        "\n",
        "if not receita:\n",
        "  print('Então vou te surpriender hoje!')\n",
        "  receita = ('Balacubaco')\n",
        "  lancamentos= agente_buscador(receita,data_de_hoje)\n",
        "  print('Encontrada as melhores receitas!📃')\n",
        "  precos = agente_preco(receita, lancamentos)\n",
        "  print('Os melhores preços estão aqui!🍳')\n",
        "  nutricao = agente_nutricional(receita, lancamentos)\n",
        "  print('Uma refeição balenciada é muito importante!💪')\n",
        "  cardapio= agente_receita(lancamentos, precos, nutricao)\n",
        "  print(cardapio)\n",
        "else:\n",
        "  print(f'Ok! Vamos buscar algumas sugestões para os pratos.')\n",
        "\n",
        "  lancamentos= agente_buscador(receita,data_de_hoje)\n",
        "  print('Encontrada as melhores receitas!📃')\n",
        "  precos = agente_preco(receita, lancamentos)\n",
        "  print('Os melhores preços estão aqui!🍳')\n",
        "  nutricao = agente_nutricional(receita, lancamentos)\n",
        "  print('Uma refeição balenciada é muito importante!💪')\n",
        "  cardapio= agente_receita(lancamentos, precos, nutricao)\n",
        "  print(cardapio)\n",
        "\n"
      ],
      "metadata": {
        "id": "630ummxz4myx",
        "colab": {
          "base_uri": "https://localhost:8080/"
        },
        "outputId": "362e57ce-8726-499e-b7ba-39a7eb1801f4"
      },
      "execution_count": 38,
      "outputs": [
        {
          "output_type": "stream",
          "name": "stdout",
          "text": [
            "🔪 CozinhAI, seu chef de cozinha pessoal 🥣\n",
            "🔥 O que iremos preparar hoje?: \n",
            "Então vou te surpriender hoje!\n",
            "Encontrada as melhores receitas!📃\n",
            "Os melhores preços estão aqui!🍳\n",
            "Uma refeição balenciada é muito importante!💪\n",
            "## Pavlova dos Deuses: Uma Explosão de Sabores e Cores na Sua Mesa!\n",
            "\n",
            "Prepare-se para uma experiência gastronômica celestial com a nossa Pavlova dos Deuses! Uma sobremesa leve, crocante por fora e macia por dentro, adornada com um festival de frutos vermelhos frescos e vibrantes. Mas antes de partirmos para a receita, vamos aos custos para que você possa planejar essa delícia sem sustos!\n",
            "\n",
            "**Ingredientes Divinos e seus Preços:**\n",
            "\n",
            "*   **Nuvens de Claras (4 unidades):** R$ 2,00 (calculado a partir de R$ 24,90 por 500g de claras pasteurizadas)\n",
            "*   **Doçura Cristalina (Açúcar - 180g):** R$ 1,04 (calculado a partir de R$ 5,79/kg)\n",
            "*   **Toque Mágico (Farinha Maizena - 2 colheres de chá):** R$ 0,07 (calculado a partir de R$ 7,29 por 200g)\n",
            "*   **Segredo da Leveza (Vinagre de sidra - 1 colher de chá):** Quase imperceptível!\n",
            "*   **Creme dos Anjos (Nata fresca para bater - 200g):** R$ 2,30\n",
            "*   **Rubis da Natureza (Morangos - 200g):** R$ 6,00 (calculado a partir de R$ 30,00/kg)\n",
            "*   **Jóias da Floresta (Framboesas - a gosto):** Preço sob consulta, dependendo da sua generosidade!\n",
            "*   **Pérolas Azuis (Mirtilos - a gosto):** Preço sob consulta, para uma explosão de sabor!\n",
            "*   **Frescor da Manhã (Hortelã - a gosto):** R$ 0,55 (calculado a partir de R$ 5,49 por 200g)\n",
            "*   **Neve Açucarada (Açúcar em pó - para polvilhar):** Uma pitada de magia!\n",
            "\n",
            "**Total Estimado:** R$ 11,96 + o custo dos frutos vermelhos (framboesas e mirtilos) que você escolher adicionar!\n",
            "\n",
            "**A Dança dos Nutrientes:**\n",
            "\n",
            "A Pavlova, como toda rainha das sobremesas, exige moderação. Mas vamos desvendar seus segredos nutricionais com um toque de humor:\n",
            "\n",
            "*   **Calorias:** Uma fatia é uma dose de energia para um show de dança, mas não exagere para não virar maratonista! (300-500 calorias)\n",
            "*   **Carboidratos:** O combustível da alegria! Mas lembre-se, o excesso pode te deixar \"pesado\" demais para voar.\n",
            "*   **Gorduras:** A nata dá aquela textura aveludada, mas não se esqueça que nem toda gordura é amiga do coração.\n",
            "*   **Proteínas:** As claras dão uma força extra, como um \"up\" para os seus músculos.\n",
            "*   **Vitaminas e Minerais:** Os frutos vermelhos são verdadeiros super-heróis, protegendo suas células com seus poderes antioxidantes!\n",
            "\n",
            "**Receitas Remixadas: Novas Aventuras no Mundo da Pavlova!**\n",
            "\n",
            "Inspirado na Pavlova, que tal explorar outras opções deliciosas e nutritivas?\n",
            "\n",
            "1.  **Mini Pavlovas Fit com Iogurte Grego e Frutas Tropicais:** Troque a nata por iogurte grego natural e adicione manga, maracujá e kiwi para uma explosão de sabor tropical com menos calorias!\n",
            "2.  **Salada de Frutas Crocante com Merengue de Coco:** Faça pequenos merengues com coco ralado e adicione a uma salada de frutas colorida para um toque crocante e exótico.\n",
            "3.  **Mousse de Limão com Crumble de Biscoito Integral:** Crie um crumble crocante com biscoito integral e adicione a uma mousse de limão leve e refrescante.\n",
            "\n",
            "**Lembre-se:** A Pavlova é uma celebração, um momento de prazer. Desfrute com moderação e equilibre com uma alimentação saudável e atividades físicas. E o mais importante: divirta-se na cozinha, experimente e crie suas próprias versões dessa sobremesa divina!\n",
            "\n"
          ]
        }
      ]
    }
  ]
}