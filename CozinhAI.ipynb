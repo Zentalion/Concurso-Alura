{
  "nbformat": 4,
  "nbformat_minor": 0,
  "metadata": {
    "colab": {
      "provenance": [],
      "include_colab_link": true
    },
    "kernelspec": {
      "name": "python3",
      "display_name": "Python 3"
    },
    "language_info": {
      "name": "python"
    }
  },
  "cells": [
    {
      "cell_type": "markdown",
      "metadata": {
        "id": "view-in-github",
        "colab_type": "text"
      },
      "source": [
        "<a href=\"https://colab.research.google.com/github/Zentalion/Concurso-Alura/blob/main/CozinhAI.ipynb\" target=\"_parent\"><img src=\"https://colab.research.google.com/assets/colab-badge.svg\" alt=\"Open In Colab\"/></a>"
      ]
    },
    {
      "cell_type": "code",
      "source": [
        "%pip -q install google-genai"
      ],
      "metadata": {
        "id": "UCCbECexLk_h"
      },
      "execution_count": null,
      "outputs": []
    },
    {
      "cell_type": "code",
      "source": [
        "# Configura a API Key do Google Gemini\n",
        "\n",
        "import os\n",
        "from google.colab import userdata\n",
        "\n",
        "os.environ[\"GOOGLE_API_KEY\"] = userdata.get('GOOGLE_API_KEY')"
      ],
      "metadata": {
        "id": "NfCqHo1tLk8P"
      },
      "execution_count": null,
      "outputs": []
    },
    {
      "cell_type": "code",
      "source": [
        "# Configura o cliente da SDK do Gemini\n",
        "\n",
        "from google import genai\n",
        "\n",
        "client = genai.Client()\n",
        "\n",
        "MODEL_ID = \"gemini-2.0-flash\""
      ],
      "metadata": {
        "id": "bV4w0H5TLk5g"
      },
      "execution_count": null,
      "outputs": []
    },
    {
      "cell_type": "code",
      "source": [
        "# Instalar Framework ADK de agentes do Google ################################################\n",
        "%pip install -q google-adk\n"
      ],
      "metadata": {
        "id": "hvZ3UnPI4jhJ",
        "colab": {
          "base_uri": "https://localhost:8080/"
        },
        "outputId": "e9ec9588-6aae-4904-ba12-46dbc4bee83d"
      },
      "execution_count": null,
      "outputs": [
        {
          "output_type": "stream",
          "name": "stdout",
          "text": [
            "\u001b[?25l   \u001b[90m━━━━━━━━━━━━━━━━━━━━━━━━━━━━━━━━━━━━━━━━\u001b[0m \u001b[32m0.0/1.2 MB\u001b[0m \u001b[31m?\u001b[0m eta \u001b[36m-:--:--\u001b[0m\r\u001b[2K   \u001b[91m━━━━━━━━━━━━━━━━━━━━━━━━━━━━━━━━━━━━━━\u001b[0m\u001b[90m╺\u001b[0m\u001b[90m━\u001b[0m \u001b[32m1.1/1.2 MB\u001b[0m \u001b[31m35.3 MB/s\u001b[0m eta \u001b[36m0:00:01\u001b[0m\r\u001b[2K   \u001b[90m━━━━━━━━━━━━━━━━━━━━━━━━━━━━━━━━━━━━━━━━\u001b[0m \u001b[32m1.2/1.2 MB\u001b[0m \u001b[31m22.4 MB/s\u001b[0m eta \u001b[36m0:00:00\u001b[0m\n",
            "\u001b[?25h\u001b[?25l   \u001b[90m━━━━━━━━━━━━━━━━━━━━━━━━━━━━━━━━━━━━━━━━\u001b[0m \u001b[32m0.0/232.1 kB\u001b[0m \u001b[31m?\u001b[0m eta \u001b[36m-:--:--\u001b[0m\r\u001b[2K   \u001b[90m━━━━━━━━━━━━━━━━━━━━━━━━━━━━━━━━━━━━━━━━\u001b[0m \u001b[32m232.1/232.1 kB\u001b[0m \u001b[31m17.5 MB/s\u001b[0m eta \u001b[36m0:00:00\u001b[0m\n",
            "\u001b[?25h\u001b[?25l   \u001b[90m━━━━━━━━━━━━━━━━━━━━━━━━━━━━━━━━━━━━━━━━\u001b[0m \u001b[32m0.0/95.2 kB\u001b[0m \u001b[31m?\u001b[0m eta \u001b[36m-:--:--\u001b[0m\r\u001b[2K   \u001b[90m━━━━━━━━━━━━━━━━━━━━━━━━━━━━━━━━━━━━━━━━\u001b[0m \u001b[32m95.2/95.2 kB\u001b[0m \u001b[31m8.2 MB/s\u001b[0m eta \u001b[36m0:00:00\u001b[0m\n",
            "\u001b[?25h\u001b[?25l   \u001b[90m━━━━━━━━━━━━━━━━━━━━━━━━━━━━━━━━━━━━━━━━\u001b[0m \u001b[32m0.0/217.1 kB\u001b[0m \u001b[31m?\u001b[0m eta \u001b[36m-:--:--\u001b[0m\r\u001b[2K   \u001b[90m━━━━━━━━━━━━━━━━━━━━━━━━━━━━━━━━━━━━━━━━\u001b[0m \u001b[32m217.1/217.1 kB\u001b[0m \u001b[31m16.7 MB/s\u001b[0m eta \u001b[36m0:00:00\u001b[0m\n",
            "\u001b[?25h\u001b[?25l   \u001b[90m━━━━━━━━━━━━━━━━━━━━━━━━━━━━━━━━━━━━━━━━\u001b[0m \u001b[32m0.0/334.1 kB\u001b[0m \u001b[31m?\u001b[0m eta \u001b[36m-:--:--\u001b[0m\r\u001b[2K   \u001b[90m━━━━━━━━━━━━━━━━━━━━━━━━━━━━━━━━━━━━━━━━\u001b[0m \u001b[32m334.1/334.1 kB\u001b[0m \u001b[31m25.4 MB/s\u001b[0m eta \u001b[36m0:00:00\u001b[0m\n",
            "\u001b[?25h\u001b[?25l   \u001b[90m━━━━━━━━━━━━━━━━━━━━━━━━━━━━━━━━━━━━━━━━\u001b[0m \u001b[32m0.0/125.1 kB\u001b[0m \u001b[31m?\u001b[0m eta \u001b[36m-:--:--\u001b[0m\r\u001b[2K   \u001b[90m━━━━━━━━━━━━━━━━━━━━━━━━━━━━━━━━━━━━━━━━\u001b[0m \u001b[32m125.1/125.1 kB\u001b[0m \u001b[31m10.2 MB/s\u001b[0m eta \u001b[36m0:00:00\u001b[0m\n",
            "\u001b[2K   \u001b[90m━━━━━━━━━━━━━━━━━━━━━━━━━━━━━━━━━━━━━━━━\u001b[0m \u001b[32m65.8/65.8 kB\u001b[0m \u001b[31m5.6 MB/s\u001b[0m eta \u001b[36m0:00:00\u001b[0m\n",
            "\u001b[2K   \u001b[90m━━━━━━━━━━━━━━━━━━━━━━━━━━━━━━━━━━━━━━━━\u001b[0m \u001b[32m119.0/119.0 kB\u001b[0m \u001b[31m9.3 MB/s\u001b[0m eta \u001b[36m0:00:00\u001b[0m\n",
            "\u001b[2K   \u001b[90m━━━━━━━━━━━━━━━━━━━━━━━━━━━━━━━━━━━━━━━━\u001b[0m \u001b[32m194.9/194.9 kB\u001b[0m \u001b[31m15.2 MB/s\u001b[0m eta \u001b[36m0:00:00\u001b[0m\n",
            "\u001b[2K   \u001b[90m━━━━━━━━━━━━━━━━━━━━━━━━━━━━━━━━━━━━━━━━\u001b[0m \u001b[32m62.5/62.5 kB\u001b[0m \u001b[31m4.9 MB/s\u001b[0m eta \u001b[36m0:00:00\u001b[0m\n",
            "\u001b[2K   \u001b[90m━━━━━━━━━━━━━━━━━━━━━━━━━━━━━━━━━━━━━━━━\u001b[0m \u001b[32m103.3/103.3 kB\u001b[0m \u001b[31m8.3 MB/s\u001b[0m eta \u001b[36m0:00:00\u001b[0m\n",
            "\u001b[2K   \u001b[90m━━━━━━━━━━━━━━━━━━━━━━━━━━━━━━━━━━━━━━━━\u001b[0m \u001b[32m44.4/44.4 kB\u001b[0m \u001b[31m3.1 MB/s\u001b[0m eta \u001b[36m0:00:00\u001b[0m\n",
            "\u001b[2K   \u001b[90m━━━━━━━━━━━━━━━━━━━━━━━━━━━━━━━━━━━━━━━━\u001b[0m \u001b[32m72.0/72.0 kB\u001b[0m \u001b[31m5.7 MB/s\u001b[0m eta \u001b[36m0:00:00\u001b[0m\n",
            "\u001b[?25h"
          ]
        }
      ]
    },
    {
      "cell_type": "code",
      "execution_count": null,
      "metadata": {
        "id": "aePV2bdfDeoW"
      },
      "outputs": [],
      "source": [
        "from google.adk.agents import Agent\n",
        "from google.adk.runners import Runner\n",
        "from google.adk.sessions import InMemorySessionService\n",
        "from google.adk.tools import google_search\n",
        "from google.genai import types  # Para criar conteúdos (Content e Part)\n",
        "from datetime import date\n",
        "import textwrap # Para formatar melhor a saída de texto\n",
        "from IPython.display import display, Markdown # Para exibir texto formatado no Colab\n",
        "import requests # Para fazer requisições HTTP\n",
        "import warnings\n",
        "\n",
        "warnings.filterwarnings(\"ignore\")"
      ]
    },
    {
      "cell_type": "code",
      "source": [
        "# Função auxiliar que envia uma mensagem para um agente via Runner e retorna a resposta final\n",
        "def call_agent(agent: Agent, message_text: str) -> str:\n",
        "    # Cria um serviço de sessão em memória\n",
        "    session_service = InMemorySessionService()\n",
        "    # Cria uma nova sessão (você pode personalizar os IDs conforme necessário)\n",
        "    session = session_service.create_session(app_name=agent.name, user_id=\"user1\", session_id=\"session1\")\n",
        "    # Cria um Runner para o agente\n",
        "    runner = Runner(agent=agent, app_name=agent.name, session_service=session_service)\n",
        "    # Cria o conteúdo da mensagem de entrada\n",
        "    content = types.Content(role=\"user\", parts=[types.Part(text=message_text)])\n",
        "\n",
        "    final_response = \"\"\n",
        "    # Itera assincronamente pelos eventos retornados durante a execução do agente\n",
        "    for event in runner.run(user_id=\"user1\", session_id=\"session1\", new_message=content):\n",
        "        if event.is_final_response():\n",
        "          for part in event.content.parts:\n",
        "            if part.text is not None:\n",
        "              final_response += part.text\n",
        "              final_response += \"\\n\"\n",
        "    return final_response"
      ],
      "metadata": {
        "id": "_xP4lWhsS5ko"
      },
      "execution_count": null,
      "outputs": []
    },
    {
      "cell_type": "code",
      "source": [
        "##########################################\n",
        "# --- Agente 1: Buscador de receitas --- #\n",
        "##########################################\n",
        "def agente_buscador(receita,data_de_hoje):\n",
        "  buscador=Agent(\n",
        "      name='agente_buscador', model='gemini-2.0-flash', description='Agente de buscar noticias no google',\n",
        "      tools=[google_search],\n",
        "      instruction='''Você é um assistente pessoal de pesquisa culinária. Sua tarefa é usar a ferramenta de busca do google (google_search)\n",
        "      para recuperar as receitas mais bem avaliadas de acordo com o que o usuario pedir e colocalas na forma de receita com modo de preparo. Se for um pedido direto irá retornar até 3 receitas de fontes diferentes.Se for mais genérico como por exemplo um prato de massa ou um doce, buscar 5 receitas diferentes.\n",
        "      Já se for pedido uma refeição completa como por exemplo um almoço de familia ou um jantar romantico, retornar apenas um prato de entrada, um principal e uma sobremesa.\n",
        "      Apenas se vier Balacubaco você irá procurar até 3 receita baseado no dia e ano da busca e aprersentar ao usuário, não perguntar as preferencias dele. Se não tiver Balacubaco não mensionar a data.\n",
        "      '''\n",
        "  )\n",
        "  entrada_do_agente_buscador = f'Receita: {receita}\\nData de hoje: {data_de_hoje}'\n",
        "  lancamentos= call_agent(buscador, entrada_do_agente_buscador)\n",
        "  return lancamentos"
      ],
      "metadata": {
        "id": "o8bqIfi_DyH8"
      },
      "execution_count": null,
      "outputs": []
    },
    {
      "cell_type": "code",
      "source": [
        "################################################\n",
        "# --- Agente 2: Determinar preços --- #\n",
        "################################################\n",
        "def agente_preco(receita, lancamentos):\n",
        "    precificador = Agent(\n",
        "        name=\"agente_preco\",\n",
        "        model=\"gemini-2.0-flash\",\n",
        "        description=\"Agente que busca os preços\",\n",
        "        # Inserir as instruções do Agente de Preços #################################################\n",
        "        instruction=\"\"\"Você é um cozinheiro proficional, especialista em pratos com bom custo beneficio. Com base na nas receitas apresentadas pelo buscador,você deve:\n",
        "        usar a ferramenta de busca do google (google_search) para encontrar o preço medio de cada ingrediente, lembrando que está no Brasil. Reescrever os preços para não ficarem com a formatação da fonte. Colocar os inguedientes em lista para ter apenas um por linha\"\"\",\n",
        "        tools=[google_search]\n",
        "    )\n",
        "\n",
        "    entrada_do_agente_precificador = f\"receita:{receita}\\nLançamentos: {lancamentos}\"\n",
        "    # Executa o agente\n",
        "    precos = call_agent(precificador, entrada_do_agente_precificador)\n",
        "    return precos"
      ],
      "metadata": {
        "id": "y3VO1uo5_ghO"
      },
      "execution_count": null,
      "outputs": []
    },
    {
      "cell_type": "code",
      "source": [
        "######################################\n",
        "# --- Agente 3: Nutrição --- #\n",
        "######################################\n",
        "def agente_nutricional(receita, lancamentos):\n",
        "    nutricionista = Agent(\n",
        "        name=\"agente_nutricionista\",\n",
        "        model=\"gemini-2.0-flash\",\n",
        "        description=\"Agente de verificação de valor nuticional\",\n",
        "        tools=[google_search],\n",
        "        instruction=\"\"\"\n",
        "            Você é um nutricionista experiente que sabe explicar o valor nutricional de alimentos.\n",
        "            Você analisa receitas e mostra o valor nutricional delas como calorias, vitaminas, minerais e sua função em uma alimentação balanceada usando o buscador do google (google_search).\n",
        "            Utilize a lista de ingrtedientes das receitas fornecidas no lançamentos para determinar o valor nutricional delas. Sugira substituições saudaveis para os ingredientes sem comprometer o sabor.\n",
        "            \"\"\",\n",
        "\n",
        "    )\n",
        "    entrada_do_agente_nutricional = f\"Receita: {receita}\\nLançamentos: {precos}\"\n",
        "    # Executa o agente\n",
        "    nutricao = call_agent(nutricionista, entrada_do_agente_nutricional)\n",
        "    return nutricao"
      ],
      "metadata": {
        "id": "uOqlg2TRLVh1"
      },
      "execution_count": null,
      "outputs": []
    },
    {
      "cell_type": "code",
      "source": [
        "##########################################\n",
        "# --- Agente 4: Escritor da receita --- #\n",
        "##########################################\n",
        "def agente_receita(lancamentos, precos, nutricao):\n",
        "    escritor = Agent(\n",
        "        name=\"agente_escritor\",\n",
        "        model=\"gemini-2.0-flash\",\n",
        "        description=\"Agente escritor do cardápio.\",\n",
        "        instruction=\"\"\"\n",
        "            Você é um escritor de receitas, especializado em comunicação. Você vai pegar todas as receitas encontradas pelo lancamentos e relacionar com os preços encontrados pelo precos produzindo uma receita\n",
        "            que mostra os preços dos ingredientes\n",
        "            Mostrará as informações que o nutricionais completas que o agente_nutricional(nutricao) obteve para cada prato de uma maneira ludica e divertida.Ao final use as informações de nutricao para propor novas receitas relacionadas.\n",
        "            \"\"\",\n",
        "    )\n",
        "    entrada_do_agente_receita = f\"Receitas: {lancamentos}\\nPreço: {precos}\\nNutrição:{nutricao}\"\n",
        "    # Executa o agente\n",
        "    cardapio = call_agent(escritor, entrada_do_agente_receita)\n",
        "    return cardapio"
      ],
      "metadata": {
        "id": "_aTb1SdkLeT6"
      },
      "execution_count": null,
      "outputs": []
    },
    {
      "cell_type": "code",
      "source": [
        "data_de_hoje = date.today().strftime(\"%d/%m/%Y\")\n",
        "\n",
        "print(\"🔪 CozinhAI, seu chef de cozinha pessoal 🥣\")\n",
        "\n",
        "# --- Obter o Receita do Usuário ---\n",
        "receita = input(\"🔥 O que iremos preparar hoje?: \")\n",
        "\n",
        "# Inserir lógica do sistema de agentes ###############################################\n",
        "\n",
        "if not receita:\n",
        "  print('Então vou te surpriender hoje!')\n",
        "  receita = ('Balacubaco')\n",
        "  lancamentos= agente_buscador(receita,data_de_hoje)\n",
        "  print('Encontrada as melhores receitas!📃')\n",
        "  precos = agente_preco(receita, lancamentos)\n",
        "  print('Os melhores preços estão aqui!🍳')\n",
        "  nutricao = agente_nutricional(receita, lancamentos)\n",
        "  print('Uma refeição balenciada é muito importante!💪')\n",
        "  cardapio= agente_receita(lancamentos, precos, nutricao)\n",
        "  print(cardapio)\n",
        "else:\n",
        "  print(f'Ok! Vamos buscar algumas sugestões para os pratos.')\n",
        "\n",
        "  lancamentos= agente_buscador(receita,data_de_hoje)\n",
        "  print('Encontrada as melhores receitas!📃')\n",
        "  precos = agente_preco(receita, lancamentos)\n",
        "  print('Os melhores preços estão aqui!🍳')\n",
        "  nutricao = agente_nutricional(receita, lancamentos)\n",
        "  print('Uma refeição balenciada é muito importante!💪')\n",
        "  cardapio= agente_receita(lancamentos, precos, nutricao)\n",
        "  print(cardapio)"
      ],
      "metadata": {
        "id": "630ummxz4myx",
        "colab": {
          "base_uri": "https://localhost:8080/"
        },
        "outputId": "65434353-352f-4375-f9f7-311aebbc3bb4"
      },
      "execution_count": null,
      "outputs": [
        {
          "output_type": "stream",
          "name": "stdout",
          "text": [
            "🔪 CozinhAI, seu chef de cozinha pessoal 🥣\n",
            "🔥 O que iremos preparar hoje?: \n",
            "Então vou te surpriender hoje!\n",
            "Encontrada as melhores receitas!📃\n",
            "Os melhores preços estão aqui!🍳\n",
            "Uma refeição balenciada é muito importante!💪\n",
            "## Balacubaco Nutritivo: Uma Sinfonia de Sabores e Saúde!\n",
            "\n",
            "Olá, amantes da boa mesa! Preparem seus garfos e abram seus corações (e estômagos!), pois hoje vamos embarcar em uma aventura gastronômica que vai muito além do simples ato de cozinhar. Vamos criar uma experiência, uma celebração de sabores e nutrientes que fará seus sentidos dançarem!\n",
            "\n",
            "Esqueça o \"Balacubaco\" que você procurava, porque o verdadeiro balacobaco está na explosão de cores, aromas e texturas que vamos criar juntos. E o melhor de tudo? Com um preço que cabe no seu bolso!\n",
            "\n",
            "**A Estrela da Noite: Frango Cremoso com Batatas (Um Clássico Repaginado)**\n",
            "\n",
            "Nosso prato principal é um clássico reinventado: o Frango Cremoso com Batatas. Mas não se engane, aqui a tradição encontra a inovação, o sabor se une à saúde, e a alegria toma conta da cozinha!\n",
            "\n",
            "**Ingredientes de Primeira (e com Preços Camaradas!):**\n",
            "\n",
            "*   **Peito de Frango:** O astro principal, rico em proteínas para turbinar seus músculos! (R$ 26,50/kg)\n",
            "*   **Batatas:** As coadjuvantes perfeitas, cheias de energia para te manter no ritmo! (R$ 1,50/kg)\n",
            "*   **Cebola:** A maestrina do sabor, que orquestra todos os ingredientes em harmonia! (R$ 0,45/unidade média)\n",
            "*   **Alho:** O guardião da saúde, com superpoderes para fortalecer sua imunidade! (R$ 0,50/2 dentes)\n",
            "*   **Creme de Leite:** O abraço cremoso que une todos os sabores em uma só canção! (R$ 8,50/lata)\n",
            "*   **Requeijão Cremoso:** O toque aveludado que transforma o simples em extraordinário! (R$ 10,00/200g)\n",
            "*   **Azeite:** O ouro líquido da cozinha, para dar um brilho especial ao nosso prato! (R$ 3,00/estimativa para a receita)\n",
            "*   **Sal, Pimenta do Reino e Temperos:** Os artistas convidados, que dão o toque final de personalidade! (R$ 1,00/estimativa)\n",
            "*   **Salsinha e Cebolinha:** As confetes da alegria, para celebrar a vida e o sabor! (R$ 2,00/maço pequeno)\n",
            "\n",
            "**Custo Total Estimado:** R$ 53,45 (Aproximadamente R$ 8,91 por porção – um verdadeiro achado!)\n",
            "\n",
            "**Uma Sinfonia Nutricional:**\n",
            "\n",
            "Nosso Frango Cremoso com Batatas não é só sabor, é também uma explosão de nutrientes que farão seu corpo cantar!\n",
            "\n",
            "*   **Proteínas:** 40-50g por porção – Para construir e reparar seus tecidos, te deixando forte e cheio de energia!\n",
            "*   **Carboidratos:** 30-40g por porção – O combustível perfeito para o seu cérebro e músculos, te mantendo concentrado e ativo!\n",
            "*   **Gorduras:** 20-30g por porção – Essenciais para a absorção de vitaminas e produção de hormônios, te mantendo saudável e equilibrado!\n",
            "*   **Fibras:** 3-5g por porção – Para uma digestão tranquila e um intestino feliz!\n",
            "*   **Vitaminas e Minerais:** Um verdadeiro arco-íris de saúde, fortalecendo sua imunidade, ossos e nervos!\n",
            "\n",
            "**A Magia da Substituição: Dando um Toque Pessoal à Receita**\n",
            "\n",
            "Que tal transformar nosso Frango Cremoso em uma obra de arte ainda mais personalizada? Aqui vão algumas ideias para você soltar a criatividade:\n",
            "\n",
            "*   **Troque o Frango:** Experimente com peixe branco (tilápia ou merluza) para um toque mais leve e rico em ômega-3, ou aventure-se com tofu para uma versão vegetariana/vegana cheia de sabor!\n",
            "*   **Inove nas Batatas:** Batata doce ou abóbora trazem um toque adocicado e são ricas em vitamina A. Couve-flor é perfeita para quem busca uma opção com menos carboidratos.\n",
            "*   **Abrace a Leveza:** Substitua o creme de leite por iogurte natural desnatado ou creme de castanha de caju para uma versão mais leve e saudável.\n",
            "*   **Requeijão Repaginado:** Ricota ou cottage são ótimas opções para reduzir a gordura sem perder o sabor.\n",
            "*   **Azeite com Personalidade:** Experimente com óleo de coco ou óleo de abacate para um toque exótico e cheio de benefícios!\n",
            "*   **Menos Sal, Mais Sabor:** Explore o poder das ervas e especiarias para realçar o sabor dos alimentos e reduzir o consumo de sódio.\n",
            "\n",
            "**Novas Receitas no Ritmo do Balacubaco:**\n",
            "\n",
            "Inspirado pela energia do nosso Frango Cremoso com Batatas, que tal explorar novas receitas que seguem a mesma vibe de sabor, saúde e economia?\n",
            "\n",
            "1.  **Escondidinho de Batata Doce com Frango Desfiado:** Uma explosão de sabores e texturas em um prato só! A batata doce traz um toque adocicado que harmoniza perfeitamente com o frango desfiado e temperado.\n",
            "2.  **Sopa Cremosa de Abóbora com Gengibre e Coco:** Um abraço quentinho em forma de sopa! A abóbora é rica em nutrientes e o gengibre e o coco dão um toque exótico e revigorante.\n",
            "3.  **Salada de Quinoa com Frango Grelhado, Legumes Crocantes e Molho de Limão:** Uma explosão de cores e sabores em uma salada nutritiva e refrescante! A quinoa é rica em proteínas e fibras, e os legumes crocantes dão um toque especial.\n",
            "\n",
            "**Lembre-se:** A cozinha é um palco para a sua criatividade! Use essas receitas como ponto de partida e crie suas próprias versões, adaptando os ingredientes e temperos ao seu gosto. O importante é se divertir e celebrar a vida com sabor e saúde!\n",
            "\n"
          ]
        }
      ]
    }
  ]
}